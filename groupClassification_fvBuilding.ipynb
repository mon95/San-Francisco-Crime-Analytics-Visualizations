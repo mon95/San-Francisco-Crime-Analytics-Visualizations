{
 "cells": [
  {
   "cell_type": "code",
   "execution_count": 1,
   "metadata": {
    "collapsed": true
   },
   "outputs": [],
   "source": [
    "import numpy as np\n",
    "import os\n",
    "from collections import Counter # Used to count the most common element in the array\n",
    "import math"
   ]
  },
  {
   "cell_type": "code",
   "execution_count": 4,
   "metadata": {
    "collapsed": false
   },
   "outputs": [],
   "source": [
    "# \"bestLabelForGroup(labelList)\" is used for \n",
    "# group wise prediction.\n",
    "# Return the best label for the group, \n",
    "# Returns label that is most likely to be in \n",
    "# the group of amino acids.\n",
    "def bestLabelForGroup(labelList):   \n",
    "    mostCommonLabel, count_mostCommonLabel = Counter(labelList).most_common(1)[0]\n",
    "    return mostCommonLabel\n",
    "\n",
    "def sigmoidfn(x):\n",
    "    return 1/(1+math.exp(-x))"
   ]
  },
  {
   "cell_type": "code",
   "execution_count": 10,
   "metadata": {
    "collapsed": false
   },
   "outputs": [
    {
     "name": "stdout",
     "output_type": "stream",
     "text": [
      "pssmList: 3h4s_E.int\n",
      "3\n",
      "pssmList: 1zbx_B.int\n",
      "122\n"
     ]
    }
   ],
   "source": [
    "# ----------------------------------------- IGNORE THIS ---------------------------------------------------------------------\n",
    "# Trial run to check generated outputs \n",
    "# Read file by file and build fvs for each protein\n",
    "# for fil in os.listdir('./PPI-site/'):\n",
    "#     ppiFileName = fil\n",
    "\n",
    "#     if fil[-4:] == '.int':\n",
    "#         ppiFile = open('./PPI-site/'+ppiFileName,'r+')\n",
    "#     else:\n",
    "#         continue\n",
    "\n",
    "#     ss2FileName = './psipred/'+ppiFileName[:-4]+'.ss2'\n",
    "#     pssmFileName = './PSSM/'+ppiFileName[:-4]+'.pssm'\n",
    "#     prsaFileName = './PRSA/'+ppiFileName[:-4]+'.prsa'\n",
    "\n",
    "#     ss2File = open(ss2FileName,'r+')\n",
    "#     pssmFile = open(pssmFileName, 'r+')\n",
    "#     prsaFile = open(prsaFileName, 'r+')\n",
    "\n",
    "#     pssmList = []\n",
    "\n",
    "#     i = 0\n",
    "#     for lines in pssmFile.readlines():\n",
    "#         if i<3:\n",
    "#             pass\n",
    "#         else:\n",
    "#             try:\n",
    "#                 #filling up pssmList with a list of integer lists\n",
    "#                 pssmList.append([int(lines[j:j+3]) for j in range(9,len(lines)-94,3)])     #162-94\n",
    "#             except:\n",
    "#                 print \"pssmList: \"+fil\n",
    "#                 print i\n",
    "\n",
    "#         i+=1\n",
    "\n",
    "#     ss2FileArr = np.loadtxt(ss2FileName, skiprows=2, usecols=(0,3,4,5), ndmin=2)\n",
    "#     prsaFileArr = np.loadtxt(prsaFileName, usecols=(3,))\n",
    "\n",
    "\n",
    "#     #Open file to write to\n",
    "#     sampleOutputFileName = 'groupClassification_fv_1.txt'\n",
    "#     sampleOutputFile = open(sampleOutputFileName,'a')\n",
    "\n",
    "#     labels = [] # Stores the entire set of labels\n",
    "#     for lines in ppiFile.readlines():\n",
    "#         labels.append(lines[:-1])\n",
    "    \n",
    "#     #Write the feature vector to the file\n",
    "#     for j in range(4,len(labels)-5,5): # take 10 amino acids per group and jump to next 5\n",
    "#         pass\n",
    "        \n",
    "        # For two at a time case\n",
    "        # sampleOutputFile.write(getNewLabel( labels[j], labels[j+1]))\n",
    "\n",
    "        # For group of 10 at a time\n",
    "        # sampleOutputFile.write(bestLabelForGroup([labels[x] for x in range(j-4,j+6)])) \n",
    "        # print \"j: \", j\n",
    "        # print bestLabelForGroup([labels[x] for x in range(j-4,j+1)])"
   ]
  },
  {
   "cell_type": "code",
   "execution_count": 11,
   "metadata": {
    "collapsed": false
   },
   "outputs": [
    {
     "name": "stdout",
     "output_type": "stream",
     "text": [
      "pssmList: 3h4s_E.int\n",
      "3\n",
      "pssmList: 1zbx_B.int\n",
      "122\n"
     ]
    },
    {
     "data": {
      "text/plain": [
       "'\\nNote: \\n1. The file 3fju_B.int was removed from ./PPI/ as it was resulting in processing errors for almost every \\namino acid.\\n2. The following errors must be rectified before using the fvs.\\n    pssmList: 3h4s_E.int\\n    3\\n    pssmList: 1zbx_B.int\\n    122\\n'"
      ]
     },
     "execution_count": 11,
     "metadata": {},
     "output_type": "execute_result"
    }
   ],
   "source": [
    "# Read file by file and build fvs for each protein \n",
    "for fil in os.listdir('./PPI-site/'):\n",
    "    ppiFileName = fil\n",
    "\n",
    "    if fil[-4:] == '.int':\n",
    "        ppiFile = open('./PPI-site/'+ppiFileName,'r+')\n",
    "    else:\n",
    "        continue\n",
    "\n",
    "    ss2FileName = './psipred/'+ppiFileName[:-4]+'.ss2'\n",
    "    pssmFileName = './PSSM/'+ppiFileName[:-4]+'.pssm'\n",
    "    prsaFileName = './PRSA/'+ppiFileName[:-4]+'.prsa'\n",
    "\n",
    "    ss2File = open(ss2FileName,'r+')\n",
    "    pssmFile = open(pssmFileName, 'r+')\n",
    "    prsaFile = open(prsaFileName, 'r+')\n",
    "\n",
    "    pssmList = []\n",
    "\n",
    "    i = 0\n",
    "    for lines in pssmFile.readlines():\n",
    "        if i<3:\n",
    "            pass\n",
    "        else:\n",
    "            try:\n",
    "                #filling up pssmList with a list of integer lists\n",
    "                pssmList.append([int(lines[j:j+3]) for j in range(9,len(lines)-94,3)])     #162-94\n",
    "            except:\n",
    "                print \"pssmList: \"+fil\n",
    "                print i\n",
    "\n",
    "        i+=1\n",
    "\n",
    "    ss2FileArr = np.loadtxt(ss2FileName, skiprows=2, usecols=(0,3,4,5), ndmin=2)\n",
    "    prsaFileArr = np.loadtxt(prsaFileName, usecols=(3,))\n",
    "\n",
    "\n",
    "    #Open file to write to\n",
    "    sampleOutputFileName = 'groupClassification_fv_1.txt'\n",
    "    sampleOutputFile = open(sampleOutputFileName,'a')\n",
    "\n",
    "    labels = [] # Stores the entire set of labels\n",
    "    for lines in ppiFile.readlines():\n",
    "        labels.append(lines[:-1])\n",
    "\n",
    "    # print labels\n",
    "    \n",
    "    #Write the feature vector to the file\n",
    "    for j in range(4,len(labels)-5,5): # take 10 amino acids per group and jump to next 5\n",
    "\n",
    "        # For two at a time case\n",
    "        # sampleOutputFile.write(getNewLabel( labels[j], labels[j+1]))\n",
    "\n",
    "        # For group of 10 at a time\n",
    "        sampleOutputFile.write(bestLabelForGroup([labels[x] for x in range(j-4,j+6)])) \n",
    "        # print \"j: \", j\n",
    "        # print bestLabelForGroup([labels[x] for x in range(j-4,j+1)])\n",
    "\n",
    "        sampleOutputFile.write('\\t')\n",
    "\n",
    "        i = j-4 #window of 10 i.e -4 to +5\n",
    "        while i<j+6:\n",
    "            try:\n",
    "                for n in pssmList[i]:\n",
    "                    sampleOutputFile.write('%f' %(sigmoidfn(n)))\n",
    "                    sampleOutputFile.write('\\t')\n",
    "            except:\n",
    "                print 'pssm fail: '+fil\n",
    "            i+=1\n",
    "        #20*10-pssm, cols 1-200\n",
    "\n",
    "        i = j-4\n",
    "        while i<j+6:\n",
    "            try:\n",
    "                sampleOutputFile.write('%f' %ss2FileArr[i][1])\n",
    "                sampleOutputFile.write('\\t')\n",
    "                sampleOutputFile.write('%f' %ss2FileArr[i][2])\n",
    "                sampleOutputFile.write('\\t')\n",
    "                sampleOutputFile.write('%f' %ss2FileArr[i][3])\n",
    "                sampleOutputFile.write('\\t')\n",
    "            except:\n",
    "                print 'ss2 fail: '+fil\n",
    "            i+=1\n",
    "        #3*10-ss2, cols 201-230\n",
    "\n",
    "        i = j-4\n",
    "        while i<j+6:\n",
    "            try:\n",
    "                sampleOutputFile.write('%f' %prsaFileArr[i])\n",
    "                sampleOutputFile.write('\\t')\n",
    "            except:\n",
    "                print 'prsa fail: '+fil\n",
    "            i+=1\n",
    "        #1*10-prsa, cols 231-240\n",
    "        sampleOutputFile.write('\\n')\n",
    "\n",
    "    prsaFile.close()\n",
    "    ss2File.close()\n",
    "    pssmFile.close()\n",
    "    ppiFile.close()\n",
    "\n",
    "sampleOutputFile.close() \n",
    "\"\"\"\n",
    "Note: \n",
    "1. The file 3fju_B.int was removed from ./PPI/ as it was resulting in processing errors for almost every \n",
    "amino acid.\n",
    "2. The following errors must be rectified before using the fvs.\n",
    "    pssmList: 3h4s_E.int\n",
    "    3\n",
    "    pssmList: 1zbx_B.int\n",
    "    122\n",
    "\"\"\""
   ]
  },
  {
   "cell_type": "code",
   "execution_count": 12,
   "metadata": {
    "collapsed": true
   },
   "outputs": [],
   "source": [
    "import numpy as np \n",
    "import os\n",
    "import math\n",
    "import traceback\n",
    "import pickle\n",
    "\n",
    "from sklearn import cross_validation\n",
    "from sklearn.cross_validation import KFold\n",
    "from sklearn import grid_search\n",
    "\n",
    "from sklearn.svm import SVC\n",
    "from sklearn.cluster import KMeans\n",
    "from sklearn.neighbors import KNeighborsClassifier\n",
    "from sklearn.ensemble import RandomForestClassifier\n",
    "from sklearn.ensemble import ExtraTreesClassifier\n",
    "from sklearn.tree import DecisionTreeClassifier\n",
    "from sklearn.linear_model import SGDClassifier, LogisticRegression\n",
    "\n",
    "from collections import Counter # Used to count the most common element in the array\n",
    "\n",
    "from sklearn.metrics import matthews_corrcoef\n",
    "from sklearn.metrics import f1_score\n",
    "from sklearn.metrics import make_scorer, confusion_matrix"
   ]
  },
  {
   "cell_type": "code",
   "execution_count": 29,
   "metadata": {
    "collapsed": false
   },
   "outputs": [
    {
     "name": "stdout",
     "output_type": "stream",
     "text": [
      "Distribution of negative and positive examples:  [(-1.0, 6050), (1.0, 921)]\n"
     ]
    }
   ],
   "source": [
    "# Training a classifier with the given training data\n",
    "datafile ='groupClassification_fv_1.txt'\n",
    "data = np.loadtxt(datafile)\n",
    "\n",
    "y = data[:,0]\n",
    "x = data[:,1:]\n",
    "# y.shape\n",
    "# x.shape\n",
    "print \"Distribution of negative and positive examples: \", Counter(y).most_common()"
   ]
  },
  {
   "cell_type": "code",
   "execution_count": 30,
   "metadata": {
    "collapsed": false
   },
   "outputs": [
    {
     "name": "stdout",
     "output_type": "stream",
     "text": [
      "Accuracy: 0.882 \tMCC:  0.0527294992315 \tF-measure:  0.0327868852459\n",
      "CM: \n",
      "[[  1  57]\n",
      " [  2 440]]\n"
     ]
    }
   ],
   "source": [
    "l1_logreg = LogisticRegression()\n",
    "l1_logreg = l1_logreg.fit(x[:-500],y[:-500])\n",
    "ypred_l1_logreg = l1_logreg.predict(x[-500:])\n",
    "\n",
    "print \"Accuracy:\", l1_logreg.score(x[-500:],y[-500:]),\n",
    "print \"\\tMCC: \",matthews_corrcoef(y[-500:],ypred_l1_logreg),\n",
    "print \"\\tF-measure: \",f1_score(y[-500:],ypred_l1_logreg)\n",
    "print \"CM: \"\n",
    "print confusion_matrix(y[-500:],ypred_l1_logreg, labels=[1, -1]) # Read as: predicted on top (i.e. vertical) & actual-horizontal\n",
    "\n",
    "f=open('./test72/l1_logreg.pickle','wb')\n",
    "pickle.dump(l1_logreg, f)\n",
    "f.close()\n"
   ]
  },
  {
   "cell_type": "code",
   "execution_count": 31,
   "metadata": {
    "collapsed": false
   },
   "outputs": [
    {
     "name": "stdout",
     "output_type": "stream",
     "text": [
      "GRID SCORES: \n",
      "[mean: 0.00000, std: 0.00000, params: {'C': 0.001}, mean: 0.00000, std: 0.00000, params: {'C': 0.01}, mean: 0.07376, std: 0.08474, params: {'C': 0.1}, mean: 0.11778, std: 0.08335, params: {'C': 1}, mean: 0.12415, std: 0.07301, params: {'C': 10}]\n",
      "Best score and best params: \n",
      "0.12415038452 {'C': 10} make_scorer(matthews_corrcoef)\n",
      "Accuracy: 0.0375784470489\n",
      "\tMCC:  0.0375784470489 \tF-measure:  0.0322580645161\n"
     ]
    },
    {
     "name": "stderr",
     "output_type": "stream",
     "text": [
      "/home/ssreehari10/anaconda2/lib/python2.7/site-packages/sklearn/grid_search.py:418: ChangedBehaviorWarning: The long-standing behavior to use the estimator's score function in GridSearchCV.score has changed. The scoring parameter is now used.\n",
      "  ChangedBehaviorWarning)\n"
     ]
    }
   ],
   "source": [
    "\n",
    "l1_logreg = LogisticRegression()\n",
    "param_grid = {'C':[0.001, 0.01, 0.1, 1, 10]} # Logistic regr. param grid\n",
    "clf = grid_search.GridSearchCV(l1_logreg, param_grid, cv=10, scoring=make_scorer(matthews_corrcoef)) \n",
    "\n",
    "clf = clf.fit(x[:-500],y[:-500])\n",
    "\n",
    "print \"GRID SCORES: \"\n",
    "print clf.grid_scores_\n",
    "print \"Best score and best params: \"\n",
    "print clf.best_score_, clf.best_params_ , clf.scorer_\n",
    "\n",
    "ypred = clf.predict(x[-500:])\n",
    "\n",
    "print \"Accuracy:\", clf.score(x[-500:],y[-500:])\n",
    "print \"\\tMCC: \",matthews_corrcoef(y[-500:],ypred),\n",
    "print \"\\tF-measure: \",f1_score(y[-500:],ypred)"
   ]
  },
  {
   "cell_type": "code",
   "execution_count": 32,
   "metadata": {
    "collapsed": true
   },
   "outputs": [],
   "source": [
    "f=open('./test72/l1_logreg_gridsearch.pickle','wb')\n",
    "pickle.dump(clf, f)\n",
    "f.close()"
   ]
  }
 ],
 "metadata": {
  "kernelspec": {
   "display_name": "Python 2",
   "language": "python",
   "name": "python2"
  },
  "language_info": {
   "codemirror_mode": {
    "name": "ipython",
    "version": 2
   },
   "file_extension": ".py",
   "mimetype": "text/x-python",
   "name": "python",
   "nbconvert_exporter": "python",
   "pygments_lexer": "ipython2",
   "version": "2.7.11"
  }
 },
 "nbformat": 4,
 "nbformat_minor": 0
}
